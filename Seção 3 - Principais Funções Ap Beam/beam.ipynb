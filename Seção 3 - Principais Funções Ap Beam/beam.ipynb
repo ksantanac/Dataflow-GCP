{
 "cells": [
  {
   "cell_type": "markdown",
   "metadata": {},
   "source": [
    "# Seção 3: Principais Funções do Apache Beam"
   ]
  },
  {
   "cell_type": "markdown",
   "metadata": {},
   "source": [
    "## Aula 01"
   ]
  },
  {
   "cell_type": "code",
   "execution_count": 3,
   "metadata": {},
   "outputs": [
    {
     "name": "stdout",
     "output_type": "stream",
     "text": [
      "['2019-04-27', '19805', '2', 'LAX', 'JFK', '944', '14', '1736', '-29', '269', '2475', '2']\n",
      "['2019-04-27', '19805', '3', 'JFK', 'LAX', '1224', '-6', '1614', '39', '371', '2475', '3']\n",
      "['2019-04-27', '19805', '4', 'LAX', 'JFK', '1240', '25', '2028', '-27', '264', '2475', '4']\n",
      "['2019-04-27', '19805', '5', 'DFW', 'HNL', '1300', '-5', '1650', '15', '510', '3784', '5']\n",
      "['2019-04-27', '19805', '6', 'OGG', 'DFW', '1901', '126', '640', '95', '385', '3711', '6']\n",
      "['2019-04-27', '19805', '7', 'DFW', 'OGG', '1410', '125', '1743', '138', '497', '3711', '7']\n",
      "['2019-04-27', '19805', '8', 'HNL', 'DFW', '1659', '4', '458', '-22', '398', '3784', '8']\n",
      "['2019-04-27', '19805', '9', 'JFK', 'LAX', '648', '-7', '1029', '19', '365', '2475', '9']\n",
      "['2019-04-27', '19805', '10', 'LAX', 'JFK', '2156', '21', '556', '1', '265', '2475', '10']\n",
      "['2019-04-27', '19805', '12', 'LAX', 'JFK', '1113', '-2', '1910', '-40', '267', '2475', '11']\n",
      "['2019-04-27', '19805', '14', 'OGG', 'LAX', '2235', '5', '618', '-17', '270', '2486', '12']\n",
      "['2019-04-27', '19805', '15', 'BOS', 'ORD', '611', '-9', '756', '-19', '129', '867', '13']\n",
      "['2019-04-27', '19805', '16', 'SFO', 'JFK', '1312', '17', '2107', '-33', '268', '2586', '14']\n",
      "['2019-04-27', '19805', '17', 'ATL', 'MIA', '630', '-5', '813', '-17', '83', '594', '15']\n",
      "['2019-04-27', '19805', '18', 'SFO', 'JFK', '22', '112', '833', '88', '288', '2586', '16']\n",
      "['2019-04-27', '19805', '19', 'JFK', 'LAX', '1024', '-6', '1353', '18', '359', '2475', '17']\n",
      "['2019-04-27', '19805', '20', 'SFO', 'JFK', '1715', '135', '130', '120', '277', '2586', '18']\n",
      "['2019-04-27', '19805', '21', 'JFK', 'LAX', '1906', '-4', '2246', '16', '359', '2475', '19']\n",
      "['2019-04-27', '19805', '22', 'LAX', 'JFK', '1458', '-2', '2336', '11', '272', '2475', '20']\n"
     ]
    },
    {
     "data": {
      "text/plain": [
       "<apache_beam.runners.portability.fn_api_runner.fn_runner.RunnerResult at 0x7f165919ae30>"
      ]
     },
     "execution_count": 3,
     "metadata": {},
     "output_type": "execute_result"
    }
   ],
   "source": [
    "import apache_beam as beam\n",
    "\n",
    "p1 = beam.Pipeline()\n",
    "\n",
    "voos = (\n",
    "    p1\n",
    "    # Ler arquivo e excluir cabeçalho\n",
    "    | \"Importar Dados\" >> beam.io.ReadFromText(\"data/voos_sample.csv\", skip_header_lines=1)\n",
    "    | \"Separar por Virgulas\" >> beam.Map(lambda record: record.split(\",\"))\n",
    "    | \"Mostrar resultados\" >> beam.Map(print)\n",
    ")\n",
    "\n",
    "p1.run()"
   ]
  },
  {
   "cell_type": "code",
   "execution_count": 4,
   "metadata": {},
   "outputs": [
    {
     "name": "stdout",
     "output_type": "stream",
     "text": [
      "('Cassio', 32)\n",
      "('Vics', 21)\n",
      "1\n",
      "2\n",
      "3\n"
     ]
    },
    {
     "data": {
      "text/plain": [
       "<apache_beam.runners.portability.fn_api_runner.fn_runner.RunnerResult at 0x7f165ad30070>"
      ]
     },
     "execution_count": 4,
     "metadata": {},
     "output_type": "execute_result"
    }
   ],
   "source": [
    "import apache_beam as beam\n",
    "\n",
    "p1 = beam.Pipeline()\n",
    "\n",
    "p1 | \"Tupla\" >> beam.Create( [ (\"Cassio\",32) , (\"Vics\",21) ] ) | \"print Tupla\" >> beam.Map(print) #tupla\n",
    "p1 | \"Lista\" >> beam.Create ( [ 1,2,3 ] ) |  \"print Lista\" >> beam.Map(print) #lista\n",
    "\n",
    "p1.run()"
   ]
  },
  {
   "cell_type": "code",
   "execution_count": null,
   "metadata": {},
   "outputs": [],
   "source": []
  },
  {
   "cell_type": "markdown",
   "metadata": {},
   "source": [
    "## Aula 02"
   ]
  },
  {
   "cell_type": "code",
   "execution_count": 6,
   "metadata": {},
   "outputs": [
    {
     "data": {
      "text/plain": [
       "<apache_beam.runners.portability.fn_api_runner.fn_runner.RunnerResult at 0x7f16591b3340>"
      ]
     },
     "execution_count": 6,
     "metadata": {},
     "output_type": "execute_result"
    }
   ],
   "source": [
    "import apache_beam as beam\n",
    "\n",
    "p1 = beam.Pipeline()\n",
    "\n",
    "voos = (\n",
    "    p1\n",
    "    # Ler arquivo e excluir cabeçalho\n",
    "    | \"Importar Dados\" >> beam.io.ReadFromText(\"data/voos_sample.csv\", skip_header_lines=1)\n",
    "    | \"Separar por Virgulas\" >> beam.Map(lambda record: record.split(\",\"))\n",
    "    # | \"Mostrar resultados\" >> beam.Map(print)\n",
    "    # Escrever arquivo\n",
    "    | \"Gravar resultados\" >> beam.io.WriteToText(\"voos.txt\")\n",
    ")\n",
    "\n",
    "p1.run()"
   ]
  },
  {
   "cell_type": "code",
   "execution_count": null,
   "metadata": {},
   "outputs": [],
   "source": []
  },
  {
   "cell_type": "markdown",
   "metadata": {},
   "source": [
    "## Aula 03"
   ]
  },
  {
   "cell_type": "code",
   "execution_count": 8,
   "metadata": {},
   "outputs": [
    {
     "data": {
      "text/plain": [
       "<apache_beam.runners.portability.fn_api_runner.fn_runner.RunnerResult at 0x7f161ded7130>"
      ]
     },
     "execution_count": 8,
     "metadata": {},
     "output_type": "execute_result"
    }
   ],
   "source": [
    "import apache_beam as beam\n",
    "\n",
    "p1 = beam.Pipeline()\n",
    "\n",
    "voos = (\n",
    "    p1\n",
    "    # Ler arquivo e excluir cabeçalho\n",
    "    | \"Importar Dados\" >> beam.io.ReadFromText(\"data/poema.txt\")\n",
    "    | \"Separar por Virgulas\" >> beam.FlatMap(lambda record: record.split(\" \"))\n",
    "    | \"Gravar resultados\" >> beam.io.WriteToText(\"resultado.txt\")\n",
    ")\n",
    "\n",
    "p1.run()"
   ]
  },
  {
   "cell_type": "code",
   "execution_count": null,
   "metadata": {},
   "outputs": [],
   "source": []
  },
  {
   "cell_type": "markdown",
   "metadata": {},
   "source": [
    "## Aula 04"
   ]
  },
  {
   "cell_type": "code",
   "execution_count": 10,
   "metadata": {},
   "outputs": [
    {
     "name": "stdout",
     "output_type": "stream",
     "text": [
      "['2019-04-27', '19805', '2', 'LAX', 'JFK', '944', '14', '1736', '-29', '269', '2475', '2']\n",
      "['2019-04-27', '19805', '4', 'LAX', 'JFK', '1240', '25', '2028', '-27', '264', '2475', '4']\n",
      "['2019-04-27', '19805', '10', 'LAX', 'JFK', '2156', '21', '556', '1', '265', '2475', '10']\n",
      "['2019-04-27', '19805', '12', 'LAX', 'JFK', '1113', '-2', '1910', '-40', '267', '2475', '11']\n",
      "['2019-04-27', '19805', '22', 'LAX', 'JFK', '1458', '-2', '2336', '11', '272', '2475', '20']\n"
     ]
    },
    {
     "data": {
      "text/plain": [
       "<apache_beam.runners.portability.fn_api_runner.fn_runner.RunnerResult at 0x7f161f57a4a0>"
      ]
     },
     "execution_count": 10,
     "metadata": {},
     "output_type": "execute_result"
    }
   ],
   "source": [
    "import apache_beam as beam\n",
    "\n",
    "p1 = beam.Pipeline()\n",
    "\n",
    "voos = (\n",
    "    p1\n",
    "    # Ler arquivo e excluir cabeçalho\n",
    "    | \"Importar Dados\" >> beam.io.ReadFromText(\"data/voos_sample.csv\", skip_header_lines=1)\n",
    "    | \"Separar por Virgulas\" >> beam.Map(lambda record: record.split(\",\"))\n",
    "    | \"Pegar voos de LA\" >> beam.Filter(lambda record: record[3] == \"LAX\")\n",
    "    | \"Mostrar resultados\" >> beam.Map(print)\n",
    ")\n",
    "\n",
    "p1.run()"
   ]
  },
  {
   "cell_type": "code",
   "execution_count": 12,
   "metadata": {},
   "outputs": [
    {
     "data": {
      "text/plain": [
       "<apache_beam.runners.portability.fn_api_runner.fn_runner.RunnerResult at 0x7f161e77dd20>"
      ]
     },
     "execution_count": 12,
     "metadata": {},
     "output_type": "execute_result"
    }
   ],
   "source": [
    "import apache_beam as beam\n",
    "\n",
    "palavras = [\"quatro\", \"um\"]\n",
    "\n",
    "def encontrar_palavras(i):\n",
    "    if i in palavras:\n",
    "        return True\n",
    "\n",
    "p1 = beam.Pipeline()\n",
    "\n",
    "Collection = (\n",
    "    p1\n",
    "    # Ler arquivo e excluir cabeçalho\n",
    "    | \"Importar Dados\" >> beam.io.ReadFromText(\"data/poema.txt\")\n",
    "    | \"Separar por Virgulas\" >> beam.FlatMap(lambda record: record.split(\" \"))\n",
    "    | \"Encontrar palavras\" >> beam.Filter(encontrar_palavras)\n",
    "    | \"Mostrar resultados\" >> beam.io.WriteToText(\"resultado.txt\")\n",
    ")\n",
    "\n",
    "p1.run()"
   ]
  },
  {
   "cell_type": "code",
   "execution_count": null,
   "metadata": {},
   "outputs": [],
   "source": []
  },
  {
   "cell_type": "markdown",
   "metadata": {},
   "source": [
    "## Aula 05"
   ]
  },
  {
   "cell_type": "code",
   "execution_count": 13,
   "metadata": {},
   "outputs": [
    {
     "name": "stdout",
     "output_type": "stream",
     "text": [
      "Tulio\n",
      "Mary\n",
      "Joca\n",
      "Adão\n",
      "Jesus\n",
      "Mike\n",
      "Vic\n",
      "Marta\n",
      "Tom\n"
     ]
    },
    {
     "data": {
      "text/plain": [
       "<apache_beam.runners.portability.fn_api_runner.fn_runner.RunnerResult at 0x7f161ff6f310>"
      ]
     },
     "execution_count": 13,
     "metadata": {},
     "output_type": "execute_result"
    }
   ],
   "source": [
    "import apache_beam as beam\n",
    "\n",
    "p = beam.Pipeline()\n",
    "\n",
    "negros = (\"Adão\", \"Jesus\", \"Mike\")\n",
    "brancos = (\"Tulio\", \"Mary\", \"Joca\")\n",
    "indios = (\"Vic\", \"Marta\", \"Tom\")\n",
    "\n",
    "negros_pc = p | \"Criando Pcollection negros\" >> beam.Create(negros)\n",
    "brancos_pc = p | \"Criando Pcollection brancos\" >> beam.Create(brancos)\n",
    "indios_pc = p | \"Criando Pcollection indios\" >> beam.Create(indios)\n",
    "\n",
    "# Flatten -> agrupa dados do msm tipo numa pcollection\n",
    "pessoas = ((negros_pc, brancos_pc, indios_pc) | beam.Flatten()) | beam.Map(print)\n",
    "p.run()"
   ]
  },
  {
   "cell_type": "code",
   "execution_count": null,
   "metadata": {},
   "outputs": [],
   "source": []
  },
  {
   "cell_type": "markdown",
   "metadata": {},
   "source": [
    "## Aula 06"
   ]
  },
  {
   "cell_type": "code",
   "execution_count": null,
   "metadata": {},
   "outputs": [],
   "source": [
    "import apache_beam as beam\n",
    "\n",
    "p1 = beam.Pipeline()\n",
    "\n",
    "voos = (\n",
    "    p1\n",
    "    # Ler arquivo e excluir cabeçalho\n",
    "    | \"Importar Dados\" >> beam.io.ReadFromText(\"data/voos_sample.csv\", skip_header_lines=1)\n",
    "    | \"Separar por Virgulas\" >> beam.Map(lambda record: record.split(\",\"))\n",
    "    | \"Pegar voos de LA\" >> beam.Filter(lambda record: record[3] == \"LAX\")\n",
    "    | \"Mostrar resultados\" >> beam.Map(print)\n",
    ")\n",
    "\n",
    "p1.run()\n"
   ]
  },
  {
   "cell_type": "code",
   "execution_count": null,
   "metadata": {},
   "outputs": [],
   "source": []
  },
  {
   "cell_type": "markdown",
   "metadata": {},
   "source": [
    "## Aula 07"
   ]
  },
  {
   "cell_type": "code",
   "execution_count": 3,
   "metadata": {},
   "outputs": [
    {
     "name": "stdout",
     "output_type": "stream",
     "text": [
      "('LAX', 92)\n",
      "('HNL', 15)\n",
      "('DFW', 95)\n",
      "('OGG', 138)\n",
      "('JFK', 220)\n"
     ]
    },
    {
     "data": {
      "text/plain": [
       "<apache_beam.runners.portability.fn_api_runner.fn_runner.RunnerResult at 0x7ff9dc6d32b0>"
      ]
     },
     "execution_count": 3,
     "metadata": {},
     "output_type": "execute_result"
    }
   ],
   "source": [
    "import apache_beam as beam\n",
    "\n",
    "p1 = beam.Pipeline()\n",
    "\n",
    "voos = (\n",
    "    p1\n",
    "    # Ler arquivo e excluir cabeçalho\n",
    "    | \"Importar Dados\" >> beam.io.ReadFromText(\"data/voos_sample.csv\", skip_header_lines=1)\n",
    "    | \"Separar por Virgulas\" >> beam.Map(lambda record: record.split(\",\"))\n",
    "    | \"Pegar voos de LA\" >> beam.Filter(lambda record: int(record[8]) > 0)\n",
    "    | \"Criar Par\" >> beam.Map(lambda record: (record[4], int(record[8]))) # formando par\n",
    "    | \"Somar pór key\" >> beam.CombinePerKey(sum)\n",
    "    | \"Mostrar resultados\" >> beam.Map(print)\n",
    "\n",
    ")\n",
    "\n",
    "p1.run()\n"
   ]
  },
  {
   "cell_type": "code",
   "execution_count": null,
   "metadata": {},
   "outputs": [],
   "source": []
  },
  {
   "cell_type": "markdown",
   "metadata": {},
   "source": [
    "## Aula 08"
   ]
  },
  {
   "cell_type": "code",
   "execution_count": 4,
   "metadata": {},
   "outputs": [
    {
     "name": "stdout",
     "output_type": "stream",
     "text": [
      "('LAX', 4)\n",
      "('HNL', 1)\n",
      "('DFW', 1)\n",
      "('OGG', 1)\n",
      "('JFK', 4)\n"
     ]
    },
    {
     "data": {
      "text/plain": [
       "<apache_beam.runners.portability.fn_api_runner.fn_runner.RunnerResult at 0x7ff9875f7610>"
      ]
     },
     "execution_count": 4,
     "metadata": {},
     "output_type": "execute_result"
    }
   ],
   "source": [
    "import apache_beam as beam\n",
    "\n",
    "p1 = beam.Pipeline()\n",
    "\n",
    "qtd_atrasos = (\n",
    "    p1\n",
    "    # Ler arquivo e excluir cabeçalho\n",
    "    | \"Importar Dados\" >> beam.io.ReadFromText(\"data/voos_sample.csv\", skip_header_lines=1)\n",
    "    | \"Separar por Virgulas\" >> beam.Map(lambda record: record.split(\",\"))\n",
    "    | \"Pegar voos de LA\" >> beam.Filter(lambda record: int(record[8]) > 0)\n",
    "    | \"Criar Par\" >> beam.Map(lambda record: (record[4], int(record[8]))) # formando par\n",
    "    | \"Somar pór key\" >> beam.combiners.Count.PerKey()\n",
    "    | \"Mostrar resultados\" >> beam.Map(print)\n",
    "\n",
    ")\n",
    "\n",
    "p1.run()\n"
   ]
  },
  {
   "cell_type": "code",
   "execution_count": null,
   "metadata": {},
   "outputs": [],
   "source": []
  },
  {
   "cell_type": "markdown",
   "metadata": {},
   "source": [
    "## Aula 09"
   ]
  },
  {
   "cell_type": "code",
   "execution_count": 6,
   "metadata": {},
   "outputs": [
    {
     "name": "stdout",
     "output_type": "stream",
     "text": [
      "('LAX', {'Qtd_Atrasos': [4], 'Tempo_Atrasos': [92]})\n",
      "('HNL', {'Qtd_Atrasos': [1], 'Tempo_Atrasos': [15]})\n",
      "('DFW', {'Qtd_Atrasos': [1], 'Tempo_Atrasos': [95]})\n",
      "('OGG', {'Qtd_Atrasos': [1], 'Tempo_Atrasos': [138]})\n",
      "('JFK', {'Qtd_Atrasos': [4], 'Tempo_Atrasos': [220]})\n"
     ]
    },
    {
     "data": {
      "text/plain": [
       "<apache_beam.runners.portability.fn_api_runner.fn_runner.RunnerResult at 0x7ff9868305e0>"
      ]
     },
     "execution_count": 6,
     "metadata": {},
     "output_type": "execute_result"
    }
   ],
   "source": [
    "import apache_beam as beam\n",
    "\n",
    "p1 = beam.Pipeline()\n",
    "\n",
    "Tempo_Atrasos = (\n",
    "  p1\n",
    "  | \"Importar Dados Atraso\" >> beam.io.ReadFromText(\"data/voos_sample.csv\", skip_header_lines = 1)\n",
    "  | \"Separar por Vírgulas Atraso\" >> beam.Map(lambda record: record.split(','))\n",
    "  | \"Pegar voos com atraso\" >> beam.Filter(lambda record: int(record[8]) > 0 )\n",
    "  | \"Criar par atraso\" >> beam.Map(lambda record: (record[4],int(record[8])))\n",
    "  | \"Somar por key\" >> beam.CombinePerKey(sum)\n",
    "#  | \"Mostrar Resultados\" >> beam.Map(print)\n",
    ")\n",
    "\n",
    "Qtd_Atrasos = (\n",
    "  p1\n",
    "  | \"Importar Dados\" >> beam.io.ReadFromText(\"data/voos_sample.csv\", skip_header_lines = 1)\n",
    "  | \"Separar por Vírgulas\" >> beam.Map(lambda record: record.split(','))\n",
    "  | \"Pegar voos com atraso qtd\" >> beam.Filter(lambda record: int(record[8]) > 0 )\n",
    "  | \"Criar par qtd\" >> beam.Map(lambda record: (record[4],int(record[8])))\n",
    "  | \"Contar por key\" >> beam.combiners.Count.PerKey()\n",
    "#  | \"Mostrar Resultados QTD\" >> beam.Map(print)\n",
    ")\n",
    "\n",
    "tabela_atrasos = (\n",
    "    {'Qtd_Atrasos':Qtd_Atrasos,'Tempo_Atrasos':Tempo_Atrasos} \n",
    "    | \"Group By\" >> beam.CoGroupByKey()\n",
    "    | beam.Map(print)\n",
    ")\n",
    "\n",
    "p1.run()"
   ]
  },
  {
   "cell_type": "code",
   "execution_count": null,
   "metadata": {},
   "outputs": [],
   "source": []
  },
  {
   "cell_type": "markdown",
   "metadata": {},
   "source": [
    "## Aula 10"
   ]
  },
  {
   "cell_type": "code",
   "execution_count": 7,
   "metadata": {},
   "outputs": [
    {
     "name": "stdout",
     "output_type": "stream",
     "text": [
      "('LAX', {'Qtd_Atrasos': [4], 'Tempo_Atrasos': [92]})\n",
      "('HNL', {'Qtd_Atrasos': [1], 'Tempo_Atrasos': [15]})\n",
      "('DFW', {'Qtd_Atrasos': [1], 'Tempo_Atrasos': [95]})\n",
      "('OGG', {'Qtd_Atrasos': [1], 'Tempo_Atrasos': [138]})\n",
      "('JFK', {'Qtd_Atrasos': [4], 'Tempo_Atrasos': [220]})\n"
     ]
    },
    {
     "data": {
      "text/plain": [
       "<apache_beam.runners.portability.fn_api_runner.fn_runner.RunnerResult at 0x7ff9868c80a0>"
      ]
     },
     "execution_count": 7,
     "metadata": {},
     "output_type": "execute_result"
    }
   ],
   "source": [
    "import apache_beam as beam\n",
    "\n",
    "p1 = beam.Pipeline()\n",
    "\n",
    "class filtro(beam.DoFn):\n",
    "  def process(self,record):\n",
    "    if int(record[8]) > 0:\n",
    "      return [record]\n",
    "\n",
    "Tempo_Atrasos = (\n",
    "  p1\n",
    "  | \"Importar Dados Atraso\" >> beam.io.ReadFromText(r\"data/voos_sample.csv\", skip_header_lines = 1)\n",
    "  | \"Separar por Vírgulas Atraso\" >> beam.Map(lambda record: record.split(','))\n",
    "  | \"Pegar voos com atraso\" >> beam.ParDo(filtro())\n",
    "  | \"Criar par atraso\" >> beam.Map(lambda record: (record[4],int(record[8])))\n",
    "  | \"Somar por key\" >> beam.CombinePerKey(sum)\n",
    "#  | \"Mostrar Resultados\" >> beam.Map(print)\n",
    ")\n",
    "\n",
    "Qtd_Atrasos = (\n",
    "  p1\n",
    "  | \"Importar Dados\" >> beam.io.ReadFromText(r\"data/voos_sample.csv\", skip_header_lines = 1)\n",
    "  | \"Separar por Vírgulas Qtd\" >> beam.Map(lambda record: record.split(','))\n",
    "  | \"Pegar voos com Qtd\" >> beam.ParDo(filtro())\n",
    "  | \"Criar par Qtd\" >> beam.Map(lambda record: (record[4],int(record[8])))\n",
    "  | \"Contar por key\" >> beam.combiners.Count.PerKey()\n",
    "#  | \"Mostrar Resultados QTD\" >> beam.Map(print)\n",
    ")\n",
    "\n",
    "tabela_atrasos = (\n",
    "    {'Qtd_Atrasos':Qtd_Atrasos,'Tempo_Atrasos':Tempo_Atrasos} \n",
    "    | \"Group By\" >> beam.CoGroupByKey()\n",
    "    | beam.Map(print)\n",
    ")\n",
    "\n",
    "p1.run()"
   ]
  }
 ],
 "metadata": {
  "kernelspec": {
   "display_name": "env",
   "language": "python",
   "name": "python3"
  },
  "language_info": {
   "codemirror_mode": {
    "name": "ipython",
    "version": 3
   },
   "file_extension": ".py",
   "mimetype": "text/x-python",
   "name": "python",
   "nbconvert_exporter": "python",
   "pygments_lexer": "ipython3",
   "version": "3.10.12"
  }
 },
 "nbformat": 4,
 "nbformat_minor": 2
}
